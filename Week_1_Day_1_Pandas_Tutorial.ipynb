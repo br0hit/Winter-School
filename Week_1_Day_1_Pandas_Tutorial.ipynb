{
  "nbformat": 4,
  "nbformat_minor": 0,
  "metadata": {
    "anaconda-cloud": {},
    "kernelspec": {
      "display_name": "Python [conda root]",
      "language": "python",
      "name": "conda-root-py"
    },
    "language_info": {
      "codemirror_mode": {
        "name": "ipython",
        "version": 2
      },
      "file_extension": ".py",
      "mimetype": "text/x-python",
      "name": "python",
      "nbconvert_exporter": "python",
      "pygments_lexer": "ipython2",
      "version": "2.7.12"
    },
    "colab": {
      "provenance": [],
      "include_colab_link": true
    }
  },
  "cells": [
    {
      "cell_type": "markdown",
      "metadata": {
        "id": "view-in-github",
        "colab_type": "text"
      },
      "source": [
        "<a href=\"https://colab.research.google.com/github/br0hit/Winter-School/blob/main/Week_1_Day_1_Pandas_Tutorial.ipynb\" target=\"_parent\"><img src=\"https://colab.research.google.com/assets/colab-badge.svg\" alt=\"Open In Colab\"/></a>"
      ]
    },
    {
      "cell_type": "markdown",
      "metadata": {
        "id": "u4iHEf0veow7"
      },
      "source": [
        "# Introduction"
      ]
    },
    {
      "cell_type": "code",
      "metadata": {
        "collapsed": true,
        "id": "XQXii8GeeoxB"
      },
      "source": [
        "import pandas as pd"
      ],
      "execution_count": null,
      "outputs": []
    },
    {
      "cell_type": "markdown",
      "metadata": {
        "id": "6jkb3SxReoxC"
      },
      "source": [
        "# Loading in Data"
      ]
    },
    {
      "cell_type": "markdown",
      "metadata": {
        "id": "COhVkzuJ2ije"
      },
      "source": [
        "Link to dataset - https://drive.google.com/file/d/1F9-Kf61TZ9XTCao0A2xpHZjwWVP9svaY/view?usp=sharing"
      ]
    },
    {
      "cell_type": "code",
      "metadata": {
        "id": "PeqE0dCAeoxD"
      },
      "source": [
        "df = pd.read_csv('RegularSeasonCompactResults.csv')"
      ],
      "execution_count": null,
      "outputs": []
    },
    {
      "cell_type": "markdown",
      "metadata": {
        "id": "TY_VKHUpeoxD"
      },
      "source": [
        "# The Basics"
      ]
    },
    {
      "cell_type": "markdown",
      "metadata": {
        "id": "Hf6GRr69eoxE"
      },
      "source": [
        "Now that we have our dataframe in our variable df, let's look at what it contains. We can use the function **head()** to see the first couple of rows of the dataframe (or the function **tail()** to see the last few rows)."
      ]
    },
    {
      "cell_type": "code",
      "metadata": {
        "id": "_rXsfiEQeoxE",
        "outputId": "d329156c-2d7a-4a1c-f8a0-92d02ace34a9"
      },
      "source": [
        "df.head()"
      ],
      "execution_count": null,
      "outputs": [
        {
          "output_type": "execute_result",
          "data": {
            "text/html": [
              "<div>\n",
              "<table border=\"1\" class=\"dataframe\">\n",
              "  <thead>\n",
              "    <tr style=\"text-align: right;\">\n",
              "      <th></th>\n",
              "      <th>Season</th>\n",
              "      <th>Daynum</th>\n",
              "      <th>Wteam</th>\n",
              "      <th>Wscore</th>\n",
              "      <th>Lteam</th>\n",
              "      <th>Lscore</th>\n",
              "      <th>Wloc</th>\n",
              "      <th>Numot</th>\n",
              "    </tr>\n",
              "  </thead>\n",
              "  <tbody>\n",
              "    <tr>\n",
              "      <th>0</th>\n",
              "      <td>1985</td>\n",
              "      <td>20</td>\n",
              "      <td>1228</td>\n",
              "      <td>81</td>\n",
              "      <td>1328</td>\n",
              "      <td>64</td>\n",
              "      <td>N</td>\n",
              "      <td>0</td>\n",
              "    </tr>\n",
              "    <tr>\n",
              "      <th>1</th>\n",
              "      <td>1985</td>\n",
              "      <td>25</td>\n",
              "      <td>1106</td>\n",
              "      <td>77</td>\n",
              "      <td>1354</td>\n",
              "      <td>70</td>\n",
              "      <td>H</td>\n",
              "      <td>0</td>\n",
              "    </tr>\n",
              "    <tr>\n",
              "      <th>2</th>\n",
              "      <td>1985</td>\n",
              "      <td>25</td>\n",
              "      <td>1112</td>\n",
              "      <td>63</td>\n",
              "      <td>1223</td>\n",
              "      <td>56</td>\n",
              "      <td>H</td>\n",
              "      <td>0</td>\n",
              "    </tr>\n",
              "    <tr>\n",
              "      <th>3</th>\n",
              "      <td>1985</td>\n",
              "      <td>25</td>\n",
              "      <td>1165</td>\n",
              "      <td>70</td>\n",
              "      <td>1432</td>\n",
              "      <td>54</td>\n",
              "      <td>H</td>\n",
              "      <td>0</td>\n",
              "    </tr>\n",
              "    <tr>\n",
              "      <th>4</th>\n",
              "      <td>1985</td>\n",
              "      <td>25</td>\n",
              "      <td>1192</td>\n",
              "      <td>86</td>\n",
              "      <td>1447</td>\n",
              "      <td>74</td>\n",
              "      <td>H</td>\n",
              "      <td>0</td>\n",
              "    </tr>\n",
              "  </tbody>\n",
              "</table>\n",
              "</div>"
            ],
            "text/plain": [
              "   Season  Daynum  Wteam  Wscore  Lteam  Lscore Wloc  Numot\n",
              "0    1985      20   1228      81   1328      64    N      0\n",
              "1    1985      25   1106      77   1354      70    H      0\n",
              "2    1985      25   1112      63   1223      56    H      0\n",
              "3    1985      25   1165      70   1432      54    H      0\n",
              "4    1985      25   1192      86   1447      74    H      0"
            ]
          },
          "metadata": {
            "tags": []
          },
          "execution_count": 3
        }
      ]
    },
    {
      "cell_type": "code",
      "metadata": {
        "id": "hGOq54aVeoxF",
        "outputId": "e0bd7615-27eb-4752-ee1d-8f92deaa4f79"
      },
      "source": [
        "df.tail()"
      ],
      "execution_count": null,
      "outputs": [
        {
          "output_type": "execute_result",
          "data": {
            "text/html": [
              "<div>\n",
              "<table border=\"1\" class=\"dataframe\">\n",
              "  <thead>\n",
              "    <tr style=\"text-align: right;\">\n",
              "      <th></th>\n",
              "      <th>Season</th>\n",
              "      <th>Daynum</th>\n",
              "      <th>Wteam</th>\n",
              "      <th>Wscore</th>\n",
              "      <th>Lteam</th>\n",
              "      <th>Lscore</th>\n",
              "      <th>Wloc</th>\n",
              "      <th>Numot</th>\n",
              "    </tr>\n",
              "  </thead>\n",
              "  <tbody>\n",
              "    <tr>\n",
              "      <th>145284</th>\n",
              "      <td>2016</td>\n",
              "      <td>132</td>\n",
              "      <td>1114</td>\n",
              "      <td>70</td>\n",
              "      <td>1419</td>\n",
              "      <td>50</td>\n",
              "      <td>N</td>\n",
              "      <td>0</td>\n",
              "    </tr>\n",
              "    <tr>\n",
              "      <th>145285</th>\n",
              "      <td>2016</td>\n",
              "      <td>132</td>\n",
              "      <td>1163</td>\n",
              "      <td>72</td>\n",
              "      <td>1272</td>\n",
              "      <td>58</td>\n",
              "      <td>N</td>\n",
              "      <td>0</td>\n",
              "    </tr>\n",
              "    <tr>\n",
              "      <th>145286</th>\n",
              "      <td>2016</td>\n",
              "      <td>132</td>\n",
              "      <td>1246</td>\n",
              "      <td>82</td>\n",
              "      <td>1401</td>\n",
              "      <td>77</td>\n",
              "      <td>N</td>\n",
              "      <td>1</td>\n",
              "    </tr>\n",
              "    <tr>\n",
              "      <th>145287</th>\n",
              "      <td>2016</td>\n",
              "      <td>132</td>\n",
              "      <td>1277</td>\n",
              "      <td>66</td>\n",
              "      <td>1345</td>\n",
              "      <td>62</td>\n",
              "      <td>N</td>\n",
              "      <td>0</td>\n",
              "    </tr>\n",
              "    <tr>\n",
              "      <th>145288</th>\n",
              "      <td>2016</td>\n",
              "      <td>132</td>\n",
              "      <td>1386</td>\n",
              "      <td>87</td>\n",
              "      <td>1433</td>\n",
              "      <td>74</td>\n",
              "      <td>N</td>\n",
              "      <td>0</td>\n",
              "    </tr>\n",
              "  </tbody>\n",
              "</table>\n",
              "</div>"
            ],
            "text/plain": [
              "        Season  Daynum  Wteam  Wscore  Lteam  Lscore Wloc  Numot\n",
              "145284    2016     132   1114      70   1419      50    N      0\n",
              "145285    2016     132   1163      72   1272      58    N      0\n",
              "145286    2016     132   1246      82   1401      77    N      1\n",
              "145287    2016     132   1277      66   1345      62    N      0\n",
              "145288    2016     132   1386      87   1433      74    N      0"
            ]
          },
          "metadata": {
            "tags": []
          },
          "execution_count": 4
        }
      ]
    },
    {
      "cell_type": "markdown",
      "metadata": {
        "id": "1P6NoluPeoxF"
      },
      "source": [
        "We can see the dimensions of the dataframe using the **shape** attribute"
      ]
    },
    {
      "cell_type": "code",
      "metadata": {
        "id": "2RAyrFDqeoxG",
        "outputId": "ed0e0e2b-ec59-421b-8c21-9d633aca5a71"
      },
      "source": [
        "df.shape"
      ],
      "execution_count": null,
      "outputs": [
        {
          "output_type": "execute_result",
          "data": {
            "text/plain": [
              "(145289, 8)"
            ]
          },
          "metadata": {
            "tags": []
          },
          "execution_count": 5
        }
      ]
    },
    {
      "cell_type": "markdown",
      "metadata": {
        "collapsed": true,
        "id": "4aVE48vVeoxG"
      },
      "source": [
        "We can also extract all the column names as a list, by using the **columns** attribute and can extract the rows with the **index** attribute"
      ]
    },
    {
      "cell_type": "code",
      "metadata": {
        "id": "bqW3rNBaeoxH",
        "outputId": "2247fb76-ad20-4fae-ce03-59017d640c1d"
      },
      "source": [
        "df.columns.tolist()"
      ],
      "execution_count": null,
      "outputs": [
        {
          "output_type": "execute_result",
          "data": {
            "text/plain": [
              "['Season', 'Daynum', 'Wteam', 'Wscore', 'Lteam', 'Lscore', 'Wloc', 'Numot']"
            ]
          },
          "metadata": {
            "tags": []
          },
          "execution_count": 6
        }
      ]
    },
    {
      "cell_type": "markdown",
      "metadata": {
        "id": "FPyAJwUceoxH"
      },
      "source": [
        "In order to get a better idea of the type of data that we are dealing with, we can call the **describe()** function to see statistics like mean, min, etc about each column of the dataset. "
      ]
    },
    {
      "cell_type": "code",
      "metadata": {
        "id": "wFQ2iOebeoxH",
        "outputId": "7d041bd1-2979-4ade-b549-78e472012901"
      },
      "source": [
        "df.describe()"
      ],
      "execution_count": null,
      "outputs": [
        {
          "output_type": "execute_result",
          "data": {
            "text/html": [
              "<div>\n",
              "<table border=\"1\" class=\"dataframe\">\n",
              "  <thead>\n",
              "    <tr style=\"text-align: right;\">\n",
              "      <th></th>\n",
              "      <th>Season</th>\n",
              "      <th>Daynum</th>\n",
              "      <th>Wteam</th>\n",
              "      <th>Wscore</th>\n",
              "      <th>Lteam</th>\n",
              "      <th>Lscore</th>\n",
              "      <th>Numot</th>\n",
              "    </tr>\n",
              "  </thead>\n",
              "  <tbody>\n",
              "    <tr>\n",
              "      <th>count</th>\n",
              "      <td>145289.000000</td>\n",
              "      <td>145289.000000</td>\n",
              "      <td>145289.000000</td>\n",
              "      <td>145289.000000</td>\n",
              "      <td>145289.000000</td>\n",
              "      <td>145289.000000</td>\n",
              "      <td>145289.000000</td>\n",
              "    </tr>\n",
              "    <tr>\n",
              "      <th>mean</th>\n",
              "      <td>2001.574834</td>\n",
              "      <td>75.223816</td>\n",
              "      <td>1286.720646</td>\n",
              "      <td>76.600321</td>\n",
              "      <td>1282.864064</td>\n",
              "      <td>64.497009</td>\n",
              "      <td>0.044387</td>\n",
              "    </tr>\n",
              "    <tr>\n",
              "      <th>std</th>\n",
              "      <td>9.233342</td>\n",
              "      <td>33.287418</td>\n",
              "      <td>104.570275</td>\n",
              "      <td>12.173033</td>\n",
              "      <td>104.829234</td>\n",
              "      <td>11.380625</td>\n",
              "      <td>0.247819</td>\n",
              "    </tr>\n",
              "    <tr>\n",
              "      <th>min</th>\n",
              "      <td>1985.000000</td>\n",
              "      <td>0.000000</td>\n",
              "      <td>1101.000000</td>\n",
              "      <td>34.000000</td>\n",
              "      <td>1101.000000</td>\n",
              "      <td>20.000000</td>\n",
              "      <td>0.000000</td>\n",
              "    </tr>\n",
              "    <tr>\n",
              "      <th>25%</th>\n",
              "      <td>1994.000000</td>\n",
              "      <td>47.000000</td>\n",
              "      <td>1198.000000</td>\n",
              "      <td>68.000000</td>\n",
              "      <td>1191.000000</td>\n",
              "      <td>57.000000</td>\n",
              "      <td>0.000000</td>\n",
              "    </tr>\n",
              "    <tr>\n",
              "      <th>50%</th>\n",
              "      <td>2002.000000</td>\n",
              "      <td>78.000000</td>\n",
              "      <td>1284.000000</td>\n",
              "      <td>76.000000</td>\n",
              "      <td>1280.000000</td>\n",
              "      <td>64.000000</td>\n",
              "      <td>0.000000</td>\n",
              "    </tr>\n",
              "    <tr>\n",
              "      <th>75%</th>\n",
              "      <td>2010.000000</td>\n",
              "      <td>103.000000</td>\n",
              "      <td>1379.000000</td>\n",
              "      <td>84.000000</td>\n",
              "      <td>1375.000000</td>\n",
              "      <td>72.000000</td>\n",
              "      <td>0.000000</td>\n",
              "    </tr>\n",
              "    <tr>\n",
              "      <th>max</th>\n",
              "      <td>2016.000000</td>\n",
              "      <td>132.000000</td>\n",
              "      <td>1464.000000</td>\n",
              "      <td>186.000000</td>\n",
              "      <td>1464.000000</td>\n",
              "      <td>150.000000</td>\n",
              "      <td>6.000000</td>\n",
              "    </tr>\n",
              "  </tbody>\n",
              "</table>\n",
              "</div>"
            ],
            "text/plain": [
              "              Season         Daynum          Wteam         Wscore  \\\n",
              "count  145289.000000  145289.000000  145289.000000  145289.000000   \n",
              "mean     2001.574834      75.223816    1286.720646      76.600321   \n",
              "std         9.233342      33.287418     104.570275      12.173033   \n",
              "min      1985.000000       0.000000    1101.000000      34.000000   \n",
              "25%      1994.000000      47.000000    1198.000000      68.000000   \n",
              "50%      2002.000000      78.000000    1284.000000      76.000000   \n",
              "75%      2010.000000     103.000000    1379.000000      84.000000   \n",
              "max      2016.000000     132.000000    1464.000000     186.000000   \n",
              "\n",
              "               Lteam         Lscore          Numot  \n",
              "count  145289.000000  145289.000000  145289.000000  \n",
              "mean     1282.864064      64.497009       0.044387  \n",
              "std       104.829234      11.380625       0.247819  \n",
              "min      1101.000000      20.000000       0.000000  \n",
              "25%      1191.000000      57.000000       0.000000  \n",
              "50%      1280.000000      64.000000       0.000000  \n",
              "75%      1375.000000      72.000000       0.000000  \n",
              "max      1464.000000     150.000000       6.000000  "
            ]
          },
          "metadata": {
            "tags": []
          },
          "execution_count": 7
        }
      ]
    },
    {
      "cell_type": "markdown",
      "metadata": {
        "id": "CPQPkyzfeoxI"
      },
      "source": [
        "Okay, so now let's look at information that we want to extract from the dataframe. Let's say we want to know the max value of a certain column. The function **max()** will show you the maximum values of all columns"
      ]
    },
    {
      "cell_type": "code",
      "metadata": {
        "id": "TRPQNgeFeoxI",
        "outputId": "bef400e3-2ac6-4276-8948-6bbbe78970f8"
      },
      "source": [
        "df.max()"
      ],
      "execution_count": null,
      "outputs": [
        {
          "output_type": "execute_result",
          "data": {
            "text/plain": [
              "Season    2016\n",
              "Daynum     132\n",
              "Wteam     1464\n",
              "Wscore     186\n",
              "Lteam     1464\n",
              "Lscore     150\n",
              "Wloc         N\n",
              "Numot        6\n",
              "dtype: object"
            ]
          },
          "metadata": {
            "tags": []
          },
          "execution_count": 8
        }
      ]
    },
    {
      "cell_type": "markdown",
      "metadata": {
        "id": "2ThF91qEeoxI"
      },
      "source": [
        "Then, if you'd like to specifically get the max value for a particular column, you pass in the name of the column using the bracket indexing operator"
      ]
    },
    {
      "cell_type": "code",
      "metadata": {
        "id": "zioyrwuOeoxJ",
        "outputId": "e2622a12-cb49-45d2-e784-1b34d04fe439"
      },
      "source": [
        "df['Wscore'].max()"
      ],
      "execution_count": null,
      "outputs": [
        {
          "output_type": "execute_result",
          "data": {
            "text/plain": [
              "186"
            ]
          },
          "metadata": {
            "tags": []
          },
          "execution_count": 9
        }
      ]
    },
    {
      "cell_type": "markdown",
      "metadata": {
        "id": "pekC5FeZeoxJ"
      },
      "source": [
        "If you'd like to find the mean of the Losing teams' score. "
      ]
    },
    {
      "cell_type": "code",
      "metadata": {
        "id": "dwaQ9txXeoxJ",
        "outputId": "8e75c5b3-2da7-4909-d137-8ad7f452e144"
      },
      "source": [
        "df['Lscore'].mean()"
      ],
      "execution_count": null,
      "outputs": [
        {
          "output_type": "execute_result",
          "data": {
            "text/plain": [
              "64.49700940883343"
            ]
          },
          "metadata": {
            "tags": []
          },
          "execution_count": 10
        }
      ]
    },
    {
      "cell_type": "markdown",
      "metadata": {
        "id": "lgnj0wW0eoxK"
      },
      "source": [
        "But what if that's not enough? Let's say we want to actually see the game(row) where this max score is present. We can call the **argmax()** function to identify the row index"
      ]
    },
    {
      "cell_type": "code",
      "metadata": {
        "id": "63ZiOvVweoxK",
        "outputId": "9fcc6b96-4bc3-4fa6-9c3f-34127d6d48a5"
      },
      "source": [
        "df['Wscore'].argmax()"
      ],
      "execution_count": null,
      "outputs": [
        {
          "output_type": "execute_result",
          "data": {
            "text/plain": [
              "24970"
            ]
          },
          "metadata": {
            "tags": []
          },
          "execution_count": 11
        }
      ]
    },
    {
      "cell_type": "markdown",
      "metadata": {
        "id": "7PMq-SnyeoxK"
      },
      "source": [
        "One of the most useful functions that you can call on certain columns in a dataframe is the **value_counts()** function. It shows how many times each item appears in the column. This particular command shows the number of games in each season"
      ]
    },
    {
      "cell_type": "code",
      "metadata": {
        "id": "4U-jzQLqeoxL",
        "outputId": "a1acf5b4-2a11-4bfa-8f93-053083d961c7"
      },
      "source": [
        "df['Season'].value_counts()"
      ],
      "execution_count": null,
      "outputs": [
        {
          "output_type": "execute_result",
          "data": {
            "text/plain": [
              "2016    5369\n",
              "2014    5362\n",
              "2015    5354\n",
              "2013    5320\n",
              "2010    5263\n",
              "2012    5253\n",
              "2009    5249\n",
              "2011    5246\n",
              "2008    5163\n",
              "2007    5043\n",
              "2006    4757\n",
              "2005    4675\n",
              "2003    4616\n",
              "2004    4571\n",
              "2002    4555\n",
              "2000    4519\n",
              "2001    4467\n",
              "1999    4222\n",
              "1998    4167\n",
              "1997    4155\n",
              "1992    4127\n",
              "1991    4123\n",
              "1996    4122\n",
              "1995    4077\n",
              "1994    4060\n",
              "1990    4045\n",
              "1989    4037\n",
              "1993    3982\n",
              "1988    3955\n",
              "1987    3915\n",
              "1986    3783\n",
              "1985    3737\n",
              "Name: Season, dtype: int64"
            ]
          },
          "metadata": {
            "tags": []
          },
          "execution_count": 12
        }
      ]
    },
    {
      "cell_type": "markdown",
      "metadata": {
        "id": "5NYtWQF6eoxL"
      },
      "source": [
        "# Accessing Values"
      ]
    },
    {
      "cell_type": "markdown",
      "metadata": {
        "id": "gq3qA_UpeoxL"
      },
      "source": [
        "Then, in order to get attributes of the game, we need to use the **iloc[]** function. Iloc is definitely one of the more important functions. The main idea is that you want to use it whenever you have the integer index of a certain row that you want to access. As per Pandas documentation, iloc is an \"integer-location based indexing for selection by position.\""
      ]
    },
    {
      "cell_type": "code",
      "metadata": {
        "id": "AP9rrv-1eoxM",
        "outputId": "df4dff4f-13c1-4ab6-970b-264bc3f0f471"
      },
      "source": [
        "df.iloc[[df['Wscore'].argmax()]]"
      ],
      "execution_count": null,
      "outputs": [
        {
          "output_type": "execute_result",
          "data": {
            "text/html": [
              "<div>\n",
              "<table border=\"1\" class=\"dataframe\">\n",
              "  <thead>\n",
              "    <tr style=\"text-align: right;\">\n",
              "      <th></th>\n",
              "      <th>Season</th>\n",
              "      <th>Daynum</th>\n",
              "      <th>Wteam</th>\n",
              "      <th>Wscore</th>\n",
              "      <th>Lteam</th>\n",
              "      <th>Lscore</th>\n",
              "      <th>Wloc</th>\n",
              "      <th>Numot</th>\n",
              "    </tr>\n",
              "  </thead>\n",
              "  <tbody>\n",
              "    <tr>\n",
              "      <th>24970</th>\n",
              "      <td>1991</td>\n",
              "      <td>68</td>\n",
              "      <td>1258</td>\n",
              "      <td>186</td>\n",
              "      <td>1109</td>\n",
              "      <td>140</td>\n",
              "      <td>H</td>\n",
              "      <td>0</td>\n",
              "    </tr>\n",
              "  </tbody>\n",
              "</table>\n",
              "</div>"
            ],
            "text/plain": [
              "       Season  Daynum  Wteam  Wscore  Lteam  Lscore Wloc  Numot\n",
              "24970    1991      68   1258     186   1109     140    H      0"
            ]
          },
          "metadata": {
            "tags": []
          },
          "execution_count": 13
        }
      ]
    },
    {
      "cell_type": "markdown",
      "metadata": {
        "id": "UDhcpWR0eoxM"
      },
      "source": [
        "Let's take this a step further. Let's say you want to know the game with the highest scoring winning team (this is what we just calculated), but you also want to know how many points the losing team scored. "
      ]
    },
    {
      "cell_type": "code",
      "metadata": {
        "id": "uZ8TG01UeoxM",
        "outputId": "99259a74-d74a-4230-dcc9-5435f98a04fe"
      },
      "source": [
        "df.iloc[[df['Wscore'].argmax()]]['Lscore']"
      ],
      "execution_count": null,
      "outputs": [
        {
          "output_type": "execute_result",
          "data": {
            "text/plain": [
              "24970    140\n",
              "Name: Lscore, dtype: int64"
            ]
          },
          "metadata": {
            "tags": []
          },
          "execution_count": 14
        }
      ]
    },
    {
      "cell_type": "markdown",
      "metadata": {
        "id": "fozky1YMeoxN"
      },
      "source": [
        "When you see data displayed in the above format, you're dealing with a Pandas **Series** object, not a dataframe object."
      ]
    },
    {
      "cell_type": "code",
      "metadata": {
        "id": "PTK2Wr-ueoxN",
        "outputId": "8ee3d40c-c348-47fb-baab-1e00b0cc5c9e"
      },
      "source": [
        "type(df.iloc[[df['Wscore'].argmax()]]['Lscore'])"
      ],
      "execution_count": null,
      "outputs": [
        {
          "output_type": "execute_result",
          "data": {
            "text/plain": [
              "pandas.core.series.Series"
            ]
          },
          "metadata": {
            "tags": []
          },
          "execution_count": 15
        }
      ]
    },
    {
      "cell_type": "code",
      "metadata": {
        "id": "QMiN0gkWeoxN",
        "outputId": "a96fe7dc-7b92-40ba-c64d-057ae7231991"
      },
      "source": [
        "type(df.iloc[[df['Wscore'].argmax()]])"
      ],
      "execution_count": null,
      "outputs": [
        {
          "output_type": "execute_result",
          "data": {
            "text/plain": [
              "pandas.core.frame.DataFrame"
            ]
          },
          "metadata": {
            "tags": []
          },
          "execution_count": 16
        }
      ]
    },
    {
      "cell_type": "markdown",
      "metadata": {
        "id": "qT6dTQbQeoxO"
      },
      "source": [
        "The following is a summary of the 3 data structures in Pandas (Haven't ever really used Panels yet)\n",
        "\n",
        "![](DataStructures.png)"
      ]
    },
    {
      "cell_type": "markdown",
      "metadata": {
        "id": "YAbE0BgSeoxO"
      },
      "source": [
        "When you want to access values in a Series, you'll want to just treat the Series like a Python dictionary, so you'd access the value according to its key (which is normally an integer index)"
      ]
    },
    {
      "cell_type": "code",
      "metadata": {
        "id": "wenRtBrOeoxO",
        "outputId": "ef491088-233e-4c1c-ef3d-d5b01a4481b5"
      },
      "source": [
        "df.iloc[[df['Wscore'].argmax()]]['Lscore'][24970]"
      ],
      "execution_count": null,
      "outputs": [
        {
          "output_type": "execute_result",
          "data": {
            "text/plain": [
              "140"
            ]
          },
          "metadata": {
            "tags": []
          },
          "execution_count": 17
        }
      ]
    },
    {
      "cell_type": "markdown",
      "metadata": {
        "id": "GhsXY0IGeoxP"
      },
      "source": [
        "The other really important function in Pandas is the **loc** function. Contrary to iloc, which is an integer based indexing, loc is a \"Purely label-location based indexer for selection by label\". Since all the games are ordered from 0 to 145288, iloc and loc are going to be pretty interchangable in this type of dataset"
      ]
    },
    {
      "cell_type": "code",
      "metadata": {
        "id": "D_e2gT8FeoxQ",
        "outputId": "d4473957-7902-4fc0-af1d-d11d4f69ed14"
      },
      "source": [
        "df.iloc[:3]"
      ],
      "execution_count": null,
      "outputs": [
        {
          "output_type": "execute_result",
          "data": {
            "text/html": [
              "<div>\n",
              "<table border=\"1\" class=\"dataframe\">\n",
              "  <thead>\n",
              "    <tr style=\"text-align: right;\">\n",
              "      <th></th>\n",
              "      <th>Season</th>\n",
              "      <th>Daynum</th>\n",
              "      <th>Wteam</th>\n",
              "      <th>Wscore</th>\n",
              "      <th>Lteam</th>\n",
              "      <th>Lscore</th>\n",
              "      <th>Wloc</th>\n",
              "      <th>Numot</th>\n",
              "    </tr>\n",
              "  </thead>\n",
              "  <tbody>\n",
              "    <tr>\n",
              "      <th>0</th>\n",
              "      <td>1985</td>\n",
              "      <td>20</td>\n",
              "      <td>1228</td>\n",
              "      <td>81</td>\n",
              "      <td>1328</td>\n",
              "      <td>64</td>\n",
              "      <td>N</td>\n",
              "      <td>0</td>\n",
              "    </tr>\n",
              "    <tr>\n",
              "      <th>1</th>\n",
              "      <td>1985</td>\n",
              "      <td>25</td>\n",
              "      <td>1106</td>\n",
              "      <td>77</td>\n",
              "      <td>1354</td>\n",
              "      <td>70</td>\n",
              "      <td>H</td>\n",
              "      <td>0</td>\n",
              "    </tr>\n",
              "    <tr>\n",
              "      <th>2</th>\n",
              "      <td>1985</td>\n",
              "      <td>25</td>\n",
              "      <td>1112</td>\n",
              "      <td>63</td>\n",
              "      <td>1223</td>\n",
              "      <td>56</td>\n",
              "      <td>H</td>\n",
              "      <td>0</td>\n",
              "    </tr>\n",
              "  </tbody>\n",
              "</table>\n",
              "</div>"
            ],
            "text/plain": [
              "   Season  Daynum  Wteam  Wscore  Lteam  Lscore Wloc  Numot\n",
              "0    1985      20   1228      81   1328      64    N      0\n",
              "1    1985      25   1106      77   1354      70    H      0\n",
              "2    1985      25   1112      63   1223      56    H      0"
            ]
          },
          "metadata": {
            "tags": []
          },
          "execution_count": 18
        }
      ]
    },
    {
      "cell_type": "code",
      "metadata": {
        "id": "YajbXDFXeoxQ",
        "outputId": "2873fb98-fb99-4645-f7e2-5d5afb454078"
      },
      "source": [
        "df.loc[:3]"
      ],
      "execution_count": null,
      "outputs": [
        {
          "output_type": "execute_result",
          "data": {
            "text/html": [
              "<div>\n",
              "<table border=\"1\" class=\"dataframe\">\n",
              "  <thead>\n",
              "    <tr style=\"text-align: right;\">\n",
              "      <th></th>\n",
              "      <th>Season</th>\n",
              "      <th>Daynum</th>\n",
              "      <th>Wteam</th>\n",
              "      <th>Wscore</th>\n",
              "      <th>Lteam</th>\n",
              "      <th>Lscore</th>\n",
              "      <th>Wloc</th>\n",
              "      <th>Numot</th>\n",
              "    </tr>\n",
              "  </thead>\n",
              "  <tbody>\n",
              "    <tr>\n",
              "      <th>0</th>\n",
              "      <td>1985</td>\n",
              "      <td>20</td>\n",
              "      <td>1228</td>\n",
              "      <td>81</td>\n",
              "      <td>1328</td>\n",
              "      <td>64</td>\n",
              "      <td>N</td>\n",
              "      <td>0</td>\n",
              "    </tr>\n",
              "    <tr>\n",
              "      <th>1</th>\n",
              "      <td>1985</td>\n",
              "      <td>25</td>\n",
              "      <td>1106</td>\n",
              "      <td>77</td>\n",
              "      <td>1354</td>\n",
              "      <td>70</td>\n",
              "      <td>H</td>\n",
              "      <td>0</td>\n",
              "    </tr>\n",
              "    <tr>\n",
              "      <th>2</th>\n",
              "      <td>1985</td>\n",
              "      <td>25</td>\n",
              "      <td>1112</td>\n",
              "      <td>63</td>\n",
              "      <td>1223</td>\n",
              "      <td>56</td>\n",
              "      <td>H</td>\n",
              "      <td>0</td>\n",
              "    </tr>\n",
              "    <tr>\n",
              "      <th>3</th>\n",
              "      <td>1985</td>\n",
              "      <td>25</td>\n",
              "      <td>1165</td>\n",
              "      <td>70</td>\n",
              "      <td>1432</td>\n",
              "      <td>54</td>\n",
              "      <td>H</td>\n",
              "      <td>0</td>\n",
              "    </tr>\n",
              "  </tbody>\n",
              "</table>\n",
              "</div>"
            ],
            "text/plain": [
              "   Season  Daynum  Wteam  Wscore  Lteam  Lscore Wloc  Numot\n",
              "0    1985      20   1228      81   1328      64    N      0\n",
              "1    1985      25   1106      77   1354      70    H      0\n",
              "2    1985      25   1112      63   1223      56    H      0\n",
              "3    1985      25   1165      70   1432      54    H      0"
            ]
          },
          "metadata": {
            "tags": []
          },
          "execution_count": 19
        }
      ]
    },
    {
      "cell_type": "markdown",
      "metadata": {
        "id": "A6uaQd9yeoxR"
      },
      "source": [
        "Notice the slight difference in that iloc is exclusive of the second number, while loc is inclusive. "
      ]
    },
    {
      "cell_type": "markdown",
      "metadata": {
        "id": "aZpzSbZpeoxR"
      },
      "source": [
        "Below is an example of how you can use loc to acheive the same task as we did previously with iloc"
      ]
    },
    {
      "cell_type": "code",
      "metadata": {
        "id": "5110ZplReoxR",
        "outputId": "b506580e-6e7e-4e54-e25d-74aeeb69da53"
      },
      "source": [
        "df.loc[df['Wscore'].argmax(), 'Lscore']"
      ],
      "execution_count": null,
      "outputs": [
        {
          "output_type": "execute_result",
          "data": {
            "text/plain": [
              "140"
            ]
          },
          "metadata": {
            "tags": []
          },
          "execution_count": 20
        }
      ]
    },
    {
      "cell_type": "markdown",
      "metadata": {
        "id": "JmSxhRJVeoxS"
      },
      "source": [
        "A faster version uses the **at()** function. At() is really useful whenever you know the row label and the column label of the particular value that you want to get. "
      ]
    },
    {
      "cell_type": "code",
      "metadata": {
        "id": "8oaStXoIeoxS",
        "outputId": "348e2f84-3da7-42c8-d10c-8c0cc33f332a"
      },
      "source": [
        "df.at[df['Wscore'].argmax(), 'Lscore']"
      ],
      "execution_count": null,
      "outputs": [
        {
          "output_type": "execute_result",
          "data": {
            "text/plain": [
              "140"
            ]
          },
          "metadata": {
            "tags": []
          },
          "execution_count": 21
        }
      ]
    },
    {
      "cell_type": "markdown",
      "metadata": {
        "id": "7nca_dBJeoxS"
      },
      "source": [
        "If you'd like to see more discussion on how loc and iloc are different, check out this great Stack Overflow post: http://stackoverflow.com/questions/31593201/pandas-iloc-vs-ix-vs-loc-explanation. Just remember that **iloc looks at position** and **loc looks at labels**. Loc becomes very important when your row labels aren't integers. "
      ]
    },
    {
      "cell_type": "markdown",
      "metadata": {
        "id": "blPIVPhHeoxS"
      },
      "source": [
        "# Sorting"
      ]
    },
    {
      "cell_type": "markdown",
      "metadata": {
        "id": "nUB3lwXceoxT"
      },
      "source": [
        "Let's say that we want to sort the dataframe in increasing order for the scores of the losing team"
      ]
    },
    {
      "cell_type": "code",
      "metadata": {
        "scrolled": true,
        "id": "q_sLJ1uJeoxT",
        "outputId": "98963ca4-6742-4b78-8b19-0f58fffd1b5b"
      },
      "source": [
        "df.sort_values('Lscore').head()"
      ],
      "execution_count": null,
      "outputs": [
        {
          "output_type": "execute_result",
          "data": {
            "text/html": [
              "<div>\n",
              "<table border=\"1\" class=\"dataframe\">\n",
              "  <thead>\n",
              "    <tr style=\"text-align: right;\">\n",
              "      <th></th>\n",
              "      <th>Season</th>\n",
              "      <th>Daynum</th>\n",
              "      <th>Wteam</th>\n",
              "      <th>Wscore</th>\n",
              "      <th>Lteam</th>\n",
              "      <th>Lscore</th>\n",
              "      <th>Wloc</th>\n",
              "      <th>Numot</th>\n",
              "    </tr>\n",
              "  </thead>\n",
              "  <tbody>\n",
              "    <tr>\n",
              "      <th>100027</th>\n",
              "      <td>2008</td>\n",
              "      <td>66</td>\n",
              "      <td>1203</td>\n",
              "      <td>49</td>\n",
              "      <td>1387</td>\n",
              "      <td>20</td>\n",
              "      <td>H</td>\n",
              "      <td>0</td>\n",
              "    </tr>\n",
              "    <tr>\n",
              "      <th>49310</th>\n",
              "      <td>1997</td>\n",
              "      <td>66</td>\n",
              "      <td>1157</td>\n",
              "      <td>61</td>\n",
              "      <td>1204</td>\n",
              "      <td>21</td>\n",
              "      <td>H</td>\n",
              "      <td>0</td>\n",
              "    </tr>\n",
              "    <tr>\n",
              "      <th>89021</th>\n",
              "      <td>2006</td>\n",
              "      <td>44</td>\n",
              "      <td>1284</td>\n",
              "      <td>41</td>\n",
              "      <td>1343</td>\n",
              "      <td>21</td>\n",
              "      <td>A</td>\n",
              "      <td>0</td>\n",
              "    </tr>\n",
              "    <tr>\n",
              "      <th>85042</th>\n",
              "      <td>2005</td>\n",
              "      <td>66</td>\n",
              "      <td>1131</td>\n",
              "      <td>73</td>\n",
              "      <td>1216</td>\n",
              "      <td>22</td>\n",
              "      <td>H</td>\n",
              "      <td>0</td>\n",
              "    </tr>\n",
              "    <tr>\n",
              "      <th>103660</th>\n",
              "      <td>2009</td>\n",
              "      <td>26</td>\n",
              "      <td>1326</td>\n",
              "      <td>59</td>\n",
              "      <td>1359</td>\n",
              "      <td>22</td>\n",
              "      <td>H</td>\n",
              "      <td>0</td>\n",
              "    </tr>\n",
              "  </tbody>\n",
              "</table>\n",
              "</div>"
            ],
            "text/plain": [
              "        Season  Daynum  Wteam  Wscore  Lteam  Lscore Wloc  Numot\n",
              "100027    2008      66   1203      49   1387      20    H      0\n",
              "49310     1997      66   1157      61   1204      21    H      0\n",
              "89021     2006      44   1284      41   1343      21    A      0\n",
              "85042     2005      66   1131      73   1216      22    H      0\n",
              "103660    2009      26   1326      59   1359      22    H      0"
            ]
          },
          "metadata": {
            "tags": []
          },
          "execution_count": 22
        }
      ]
    },
    {
      "cell_type": "code",
      "metadata": {
        "id": "uTlGFuOMeoxT",
        "outputId": "01c8e968-4ef3-42ea-dc82-949950589a04"
      },
      "source": [
        "df.groupby('Lscore')"
      ],
      "execution_count": null,
      "outputs": [
        {
          "output_type": "execute_result",
          "data": {
            "text/plain": [
              "<pandas.core.groupby.DataFrameGroupBy object at 0x106828650>"
            ]
          },
          "metadata": {
            "tags": []
          },
          "execution_count": 23
        }
      ]
    },
    {
      "cell_type": "markdown",
      "metadata": {
        "id": "thFw0hxveoxU"
      },
      "source": [
        "# Filtering Rows Conditionally"
      ]
    },
    {
      "cell_type": "markdown",
      "metadata": {
        "id": "U52AhQ3beoxU"
      },
      "source": [
        "Now, let's say we want to find all of the rows that satisfy a particular condition. For example, I want to find all of the games where the winning team scored more than 150 points. The idea behind this command is you want to access the column 'Wscore' of the dataframe df (df['Wscore']), find which entries are above 150 (df['Wscore'] > 150), and then return only those specific rows in a dataframe format (df[df['Wscore'] > 150])."
      ]
    },
    {
      "cell_type": "code",
      "metadata": {
        "id": "U3DxFSLDeoxU",
        "outputId": "6b2729a8-1c68-4fbc-b557-c972620560b7"
      },
      "source": [
        "df[df['Wscore'] > 150]"
      ],
      "execution_count": null,
      "outputs": [
        {
          "output_type": "execute_result",
          "data": {
            "text/html": [
              "<div>\n",
              "<table border=\"1\" class=\"dataframe\">\n",
              "  <thead>\n",
              "    <tr style=\"text-align: right;\">\n",
              "      <th></th>\n",
              "      <th>Season</th>\n",
              "      <th>Daynum</th>\n",
              "      <th>Wteam</th>\n",
              "      <th>Wscore</th>\n",
              "      <th>Lteam</th>\n",
              "      <th>Lscore</th>\n",
              "      <th>Wloc</th>\n",
              "      <th>Numot</th>\n",
              "    </tr>\n",
              "  </thead>\n",
              "  <tbody>\n",
              "    <tr>\n",
              "      <th>5269</th>\n",
              "      <td>1986</td>\n",
              "      <td>75</td>\n",
              "      <td>1258</td>\n",
              "      <td>151</td>\n",
              "      <td>1109</td>\n",
              "      <td>107</td>\n",
              "      <td>H</td>\n",
              "      <td>0</td>\n",
              "    </tr>\n",
              "    <tr>\n",
              "      <th>12046</th>\n",
              "      <td>1988</td>\n",
              "      <td>40</td>\n",
              "      <td>1328</td>\n",
              "      <td>152</td>\n",
              "      <td>1147</td>\n",
              "      <td>84</td>\n",
              "      <td>H</td>\n",
              "      <td>0</td>\n",
              "    </tr>\n",
              "    <tr>\n",
              "      <th>12355</th>\n",
              "      <td>1988</td>\n",
              "      <td>52</td>\n",
              "      <td>1328</td>\n",
              "      <td>151</td>\n",
              "      <td>1173</td>\n",
              "      <td>99</td>\n",
              "      <td>N</td>\n",
              "      <td>0</td>\n",
              "    </tr>\n",
              "    <tr>\n",
              "      <th>16040</th>\n",
              "      <td>1989</td>\n",
              "      <td>40</td>\n",
              "      <td>1328</td>\n",
              "      <td>152</td>\n",
              "      <td>1331</td>\n",
              "      <td>122</td>\n",
              "      <td>H</td>\n",
              "      <td>0</td>\n",
              "    </tr>\n",
              "    <tr>\n",
              "      <th>16853</th>\n",
              "      <td>1989</td>\n",
              "      <td>68</td>\n",
              "      <td>1258</td>\n",
              "      <td>162</td>\n",
              "      <td>1109</td>\n",
              "      <td>144</td>\n",
              "      <td>A</td>\n",
              "      <td>0</td>\n",
              "    </tr>\n",
              "    <tr>\n",
              "      <th>17867</th>\n",
              "      <td>1989</td>\n",
              "      <td>92</td>\n",
              "      <td>1258</td>\n",
              "      <td>181</td>\n",
              "      <td>1109</td>\n",
              "      <td>150</td>\n",
              "      <td>H</td>\n",
              "      <td>0</td>\n",
              "    </tr>\n",
              "    <tr>\n",
              "      <th>19653</th>\n",
              "      <td>1990</td>\n",
              "      <td>30</td>\n",
              "      <td>1328</td>\n",
              "      <td>173</td>\n",
              "      <td>1109</td>\n",
              "      <td>101</td>\n",
              "      <td>H</td>\n",
              "      <td>0</td>\n",
              "    </tr>\n",
              "    <tr>\n",
              "      <th>19971</th>\n",
              "      <td>1990</td>\n",
              "      <td>38</td>\n",
              "      <td>1258</td>\n",
              "      <td>152</td>\n",
              "      <td>1109</td>\n",
              "      <td>137</td>\n",
              "      <td>A</td>\n",
              "      <td>0</td>\n",
              "    </tr>\n",
              "    <tr>\n",
              "      <th>20022</th>\n",
              "      <td>1990</td>\n",
              "      <td>40</td>\n",
              "      <td>1116</td>\n",
              "      <td>166</td>\n",
              "      <td>1109</td>\n",
              "      <td>101</td>\n",
              "      <td>H</td>\n",
              "      <td>0</td>\n",
              "    </tr>\n",
              "    <tr>\n",
              "      <th>22145</th>\n",
              "      <td>1990</td>\n",
              "      <td>97</td>\n",
              "      <td>1258</td>\n",
              "      <td>157</td>\n",
              "      <td>1362</td>\n",
              "      <td>115</td>\n",
              "      <td>H</td>\n",
              "      <td>0</td>\n",
              "    </tr>\n",
              "    <tr>\n",
              "      <th>23582</th>\n",
              "      <td>1991</td>\n",
              "      <td>26</td>\n",
              "      <td>1318</td>\n",
              "      <td>152</td>\n",
              "      <td>1258</td>\n",
              "      <td>123</td>\n",
              "      <td>N</td>\n",
              "      <td>0</td>\n",
              "    </tr>\n",
              "    <tr>\n",
              "      <th>24341</th>\n",
              "      <td>1991</td>\n",
              "      <td>47</td>\n",
              "      <td>1328</td>\n",
              "      <td>172</td>\n",
              "      <td>1258</td>\n",
              "      <td>112</td>\n",
              "      <td>H</td>\n",
              "      <td>0</td>\n",
              "    </tr>\n",
              "    <tr>\n",
              "      <th>24970</th>\n",
              "      <td>1991</td>\n",
              "      <td>68</td>\n",
              "      <td>1258</td>\n",
              "      <td>186</td>\n",
              "      <td>1109</td>\n",
              "      <td>140</td>\n",
              "      <td>H</td>\n",
              "      <td>0</td>\n",
              "    </tr>\n",
              "    <tr>\n",
              "      <th>25656</th>\n",
              "      <td>1991</td>\n",
              "      <td>84</td>\n",
              "      <td>1106</td>\n",
              "      <td>151</td>\n",
              "      <td>1212</td>\n",
              "      <td>97</td>\n",
              "      <td>H</td>\n",
              "      <td>0</td>\n",
              "    </tr>\n",
              "    <tr>\n",
              "      <th>28687</th>\n",
              "      <td>1992</td>\n",
              "      <td>54</td>\n",
              "      <td>1261</td>\n",
              "      <td>159</td>\n",
              "      <td>1319</td>\n",
              "      <td>86</td>\n",
              "      <td>H</td>\n",
              "      <td>0</td>\n",
              "    </tr>\n",
              "    <tr>\n",
              "      <th>35023</th>\n",
              "      <td>1993</td>\n",
              "      <td>112</td>\n",
              "      <td>1380</td>\n",
              "      <td>155</td>\n",
              "      <td>1341</td>\n",
              "      <td>91</td>\n",
              "      <td>A</td>\n",
              "      <td>0</td>\n",
              "    </tr>\n",
              "    <tr>\n",
              "      <th>40060</th>\n",
              "      <td>1995</td>\n",
              "      <td>32</td>\n",
              "      <td>1375</td>\n",
              "      <td>156</td>\n",
              "      <td>1341</td>\n",
              "      <td>114</td>\n",
              "      <td>H</td>\n",
              "      <td>0</td>\n",
              "    </tr>\n",
              "    <tr>\n",
              "      <th>52600</th>\n",
              "      <td>1998</td>\n",
              "      <td>33</td>\n",
              "      <td>1395</td>\n",
              "      <td>153</td>\n",
              "      <td>1410</td>\n",
              "      <td>87</td>\n",
              "      <td>H</td>\n",
              "      <td>0</td>\n",
              "    </tr>\n",
              "  </tbody>\n",
              "</table>\n",
              "</div>"
            ],
            "text/plain": [
              "       Season  Daynum  Wteam  Wscore  Lteam  Lscore Wloc  Numot\n",
              "5269     1986      75   1258     151   1109     107    H      0\n",
              "12046    1988      40   1328     152   1147      84    H      0\n",
              "12355    1988      52   1328     151   1173      99    N      0\n",
              "16040    1989      40   1328     152   1331     122    H      0\n",
              "16853    1989      68   1258     162   1109     144    A      0\n",
              "17867    1989      92   1258     181   1109     150    H      0\n",
              "19653    1990      30   1328     173   1109     101    H      0\n",
              "19971    1990      38   1258     152   1109     137    A      0\n",
              "20022    1990      40   1116     166   1109     101    H      0\n",
              "22145    1990      97   1258     157   1362     115    H      0\n",
              "23582    1991      26   1318     152   1258     123    N      0\n",
              "24341    1991      47   1328     172   1258     112    H      0\n",
              "24970    1991      68   1258     186   1109     140    H      0\n",
              "25656    1991      84   1106     151   1212      97    H      0\n",
              "28687    1992      54   1261     159   1319      86    H      0\n",
              "35023    1993     112   1380     155   1341      91    A      0\n",
              "40060    1995      32   1375     156   1341     114    H      0\n",
              "52600    1998      33   1395     153   1410      87    H      0"
            ]
          },
          "metadata": {
            "tags": []
          },
          "execution_count": 24
        }
      ]
    },
    {
      "cell_type": "markdown",
      "metadata": {
        "id": "I6cGeGIueoxV"
      },
      "source": [
        "This also works if you have multiple conditions. Let's say we want to find out when the winning team scores more than 150 points and when the losing team scores below 100. "
      ]
    },
    {
      "cell_type": "code",
      "metadata": {
        "id": "r5xsAWmZeoxV",
        "outputId": "c6f82c89-8b53-4272-dd33-77cd66c7081f"
      },
      "source": [
        "df[(df['Wscore'] > 150) & (df['Lscore'] < 100)]"
      ],
      "execution_count": null,
      "outputs": [
        {
          "output_type": "execute_result",
          "data": {
            "text/html": [
              "<div>\n",
              "<table border=\"1\" class=\"dataframe\">\n",
              "  <thead>\n",
              "    <tr style=\"text-align: right;\">\n",
              "      <th></th>\n",
              "      <th>Season</th>\n",
              "      <th>Daynum</th>\n",
              "      <th>Wteam</th>\n",
              "      <th>Wscore</th>\n",
              "      <th>Lteam</th>\n",
              "      <th>Lscore</th>\n",
              "      <th>Wloc</th>\n",
              "      <th>Numot</th>\n",
              "    </tr>\n",
              "  </thead>\n",
              "  <tbody>\n",
              "    <tr>\n",
              "      <th>12046</th>\n",
              "      <td>1988</td>\n",
              "      <td>40</td>\n",
              "      <td>1328</td>\n",
              "      <td>152</td>\n",
              "      <td>1147</td>\n",
              "      <td>84</td>\n",
              "      <td>H</td>\n",
              "      <td>0</td>\n",
              "    </tr>\n",
              "    <tr>\n",
              "      <th>12355</th>\n",
              "      <td>1988</td>\n",
              "      <td>52</td>\n",
              "      <td>1328</td>\n",
              "      <td>151</td>\n",
              "      <td>1173</td>\n",
              "      <td>99</td>\n",
              "      <td>N</td>\n",
              "      <td>0</td>\n",
              "    </tr>\n",
              "    <tr>\n",
              "      <th>25656</th>\n",
              "      <td>1991</td>\n",
              "      <td>84</td>\n",
              "      <td>1106</td>\n",
              "      <td>151</td>\n",
              "      <td>1212</td>\n",
              "      <td>97</td>\n",
              "      <td>H</td>\n",
              "      <td>0</td>\n",
              "    </tr>\n",
              "    <tr>\n",
              "      <th>28687</th>\n",
              "      <td>1992</td>\n",
              "      <td>54</td>\n",
              "      <td>1261</td>\n",
              "      <td>159</td>\n",
              "      <td>1319</td>\n",
              "      <td>86</td>\n",
              "      <td>H</td>\n",
              "      <td>0</td>\n",
              "    </tr>\n",
              "    <tr>\n",
              "      <th>35023</th>\n",
              "      <td>1993</td>\n",
              "      <td>112</td>\n",
              "      <td>1380</td>\n",
              "      <td>155</td>\n",
              "      <td>1341</td>\n",
              "      <td>91</td>\n",
              "      <td>A</td>\n",
              "      <td>0</td>\n",
              "    </tr>\n",
              "    <tr>\n",
              "      <th>52600</th>\n",
              "      <td>1998</td>\n",
              "      <td>33</td>\n",
              "      <td>1395</td>\n",
              "      <td>153</td>\n",
              "      <td>1410</td>\n",
              "      <td>87</td>\n",
              "      <td>H</td>\n",
              "      <td>0</td>\n",
              "    </tr>\n",
              "  </tbody>\n",
              "</table>\n",
              "</div>"
            ],
            "text/plain": [
              "       Season  Daynum  Wteam  Wscore  Lteam  Lscore Wloc  Numot\n",
              "12046    1988      40   1328     152   1147      84    H      0\n",
              "12355    1988      52   1328     151   1173      99    N      0\n",
              "25656    1991      84   1106     151   1212      97    H      0\n",
              "28687    1992      54   1261     159   1319      86    H      0\n",
              "35023    1993     112   1380     155   1341      91    A      0\n",
              "52600    1998      33   1395     153   1410      87    H      0"
            ]
          },
          "metadata": {
            "tags": []
          },
          "execution_count": 25
        }
      ]
    },
    {
      "cell_type": "markdown",
      "metadata": {
        "id": "zXlisWyUeoxX"
      },
      "source": [
        "# Grouping"
      ]
    },
    {
      "cell_type": "markdown",
      "metadata": {
        "id": "P_FS5hlJeoxY"
      },
      "source": [
        "Another important function in Pandas is **groupby()**. This is a function that allows you to group entries by certain attributes (e.g Grouping entries by Wteam number) and then perform operations on them. The following function groups all the entries (games) with the same Wteam number and finds the mean for each group. "
      ]
    },
    {
      "cell_type": "code",
      "metadata": {
        "id": "x28WiByweoxY",
        "outputId": "138b9f59-1030-4eaa-9b8f-59dbdb61c3a6"
      },
      "source": [
        "df.groupby('Wteam')['Wscore'].mean().head()"
      ],
      "execution_count": null,
      "outputs": [
        {
          "output_type": "execute_result",
          "data": {
            "text/plain": [
              "Wteam\n",
              "1101    78.111111\n",
              "1102    69.893204\n",
              "1103    75.839768\n",
              "1104    75.825944\n",
              "1105    74.960894\n",
              "Name: Wscore, dtype: float64"
            ]
          },
          "metadata": {
            "tags": []
          },
          "execution_count": 26
        }
      ]
    },
    {
      "cell_type": "markdown",
      "metadata": {
        "id": "SVNOOkzLeoxY"
      },
      "source": [
        "This next command groups all the games with the same Wteam number and finds where how many times that specific team won at home, on the road, or at a neutral site"
      ]
    },
    {
      "cell_type": "code",
      "metadata": {
        "scrolled": false,
        "id": "8egQkdQSeoxY",
        "outputId": "a0b8d8ab-3282-4604-c352-59d55ebaad9b"
      },
      "source": [
        "df.groupby('Wteam')['Wloc'].value_counts().head(9)"
      ],
      "execution_count": null,
      "outputs": [
        {
          "output_type": "execute_result",
          "data": {
            "text/plain": [
              "Wteam  Wloc\n",
              "1101   H        12\n",
              "       A         3\n",
              "       N         3\n",
              "1102   H       204\n",
              "       A        73\n",
              "       N        32\n",
              "1103   H       324\n",
              "       A       153\n",
              "       N        41\n",
              "Name: Wloc, dtype: int64"
            ]
          },
          "metadata": {
            "tags": []
          },
          "execution_count": 27
        }
      ]
    },
    {
      "cell_type": "markdown",
      "metadata": {
        "id": "NQh_wC3OeoxY"
      },
      "source": [
        "Each dataframe has a **values** attribute which is useful because it basically displays your dataframe in a numpy array style format"
      ]
    },
    {
      "cell_type": "code",
      "metadata": {
        "id": "6K8O9MfkeoxY",
        "outputId": "d0561599-f5da-4774-cdf2-172d26fb8a91"
      },
      "source": [
        "df.values"
      ],
      "execution_count": null,
      "outputs": [
        {
          "output_type": "execute_result",
          "data": {
            "text/plain": [
              "array([[1985, 20, 1228, ..., 64, 'N', 0],\n",
              "       [1985, 25, 1106, ..., 70, 'H', 0],\n",
              "       [1985, 25, 1112, ..., 56, 'H', 0],\n",
              "       ..., \n",
              "       [2016, 132, 1246, ..., 77, 'N', 1],\n",
              "       [2016, 132, 1277, ..., 62, 'N', 0],\n",
              "       [2016, 132, 1386, ..., 74, 'N', 0]], dtype=object)"
            ]
          },
          "metadata": {
            "tags": []
          },
          "execution_count": 28
        }
      ]
    },
    {
      "cell_type": "markdown",
      "metadata": {
        "id": "t4CJ9QhAeoxZ"
      },
      "source": [
        "Now, you can simply just access elements like you would in an array. "
      ]
    },
    {
      "cell_type": "code",
      "metadata": {
        "id": "HhyAQq8weoxZ",
        "outputId": "d34e7707-2c62-4d0f-8876-e9f8f4b96cdb"
      },
      "source": [
        "df.values[0][0]"
      ],
      "execution_count": null,
      "outputs": [
        {
          "output_type": "execute_result",
          "data": {
            "text/plain": [
              "1985"
            ]
          },
          "metadata": {
            "tags": []
          },
          "execution_count": 29
        }
      ]
    },
    {
      "cell_type": "markdown",
      "metadata": {
        "id": "mpVmRz26eoxZ"
      },
      "source": [
        "# Dataframe Iteration"
      ]
    },
    {
      "cell_type": "markdown",
      "metadata": {
        "id": "MBksbic3eoxZ"
      },
      "source": [
        "In order to iterate through dataframes, we can use the **iterrows()** function. Below is an example of what the first two rows look like. Each row in iterrows is a Series object"
      ]
    },
    {
      "cell_type": "code",
      "metadata": {
        "id": "WjpDoWS_eoxZ",
        "outputId": "34b5acd5-900d-4236-c7f0-022d811fdbae"
      },
      "source": [
        "for index, row in df.iterrows():\n",
        "    print row\n",
        "    if index == 1:\n",
        "        break"
      ],
      "execution_count": null,
      "outputs": [
        {
          "output_type": "stream",
          "text": [
            "Season    1985\n",
            "Daynum      20\n",
            "Wteam     1228\n",
            "Wscore      81\n",
            "Lteam     1328\n",
            "Lscore      64\n",
            "Wloc         N\n",
            "Numot        0\n",
            "Name: 0, dtype: object\n",
            "Season    1985\n",
            "Daynum      25\n",
            "Wteam     1106\n",
            "Wscore      77\n",
            "Lteam     1354\n",
            "Lscore      70\n",
            "Wloc         H\n",
            "Numot        0\n",
            "Name: 1, dtype: object\n"
          ],
          "name": "stdout"
        }
      ]
    },
    {
      "cell_type": "markdown",
      "metadata": {
        "id": "1qjq78OKeoxa"
      },
      "source": [
        "# Extracting Rows and Columns"
      ]
    },
    {
      "cell_type": "markdown",
      "metadata": {
        "id": "dLB6gTlceoxa"
      },
      "source": [
        "The bracket indexing operator is one way to extract certain columns from a dataframe."
      ]
    },
    {
      "cell_type": "code",
      "metadata": {
        "scrolled": true,
        "id": "cI6Fwt7Yeoxa",
        "outputId": "def24d42-378c-46b8-dda7-d3f070ad872d"
      },
      "source": [
        "df[['Wscore', 'Lscore']].head()"
      ],
      "execution_count": null,
      "outputs": [
        {
          "output_type": "execute_result",
          "data": {
            "text/html": [
              "<div>\n",
              "<table border=\"1\" class=\"dataframe\">\n",
              "  <thead>\n",
              "    <tr style=\"text-align: right;\">\n",
              "      <th></th>\n",
              "      <th>Wscore</th>\n",
              "      <th>Lscore</th>\n",
              "    </tr>\n",
              "  </thead>\n",
              "  <tbody>\n",
              "    <tr>\n",
              "      <th>0</th>\n",
              "      <td>81</td>\n",
              "      <td>64</td>\n",
              "    </tr>\n",
              "    <tr>\n",
              "      <th>1</th>\n",
              "      <td>77</td>\n",
              "      <td>70</td>\n",
              "    </tr>\n",
              "    <tr>\n",
              "      <th>2</th>\n",
              "      <td>63</td>\n",
              "      <td>56</td>\n",
              "    </tr>\n",
              "    <tr>\n",
              "      <th>3</th>\n",
              "      <td>70</td>\n",
              "      <td>54</td>\n",
              "    </tr>\n",
              "    <tr>\n",
              "      <th>4</th>\n",
              "      <td>86</td>\n",
              "      <td>74</td>\n",
              "    </tr>\n",
              "  </tbody>\n",
              "</table>\n",
              "</div>"
            ],
            "text/plain": [
              "   Wscore  Lscore\n",
              "0      81      64\n",
              "1      77      70\n",
              "2      63      56\n",
              "3      70      54\n",
              "4      86      74"
            ]
          },
          "metadata": {
            "tags": []
          },
          "execution_count": 31
        }
      ]
    },
    {
      "cell_type": "markdown",
      "metadata": {
        "id": "Gy18GSdceoxa"
      },
      "source": [
        "Notice that you can acheive the same result by using the loc function. Loc is a veryyyy versatile function that can help you in a lot of accessing and extracting tasks. "
      ]
    },
    {
      "cell_type": "code",
      "metadata": {
        "id": "sljnxpiseoxa",
        "outputId": "2578096e-1796-47e3-f97c-adf149c4ffc4"
      },
      "source": [
        "df.loc[:, ['Wscore', 'Lscore']].head()"
      ],
      "execution_count": null,
      "outputs": [
        {
          "output_type": "execute_result",
          "data": {
            "text/html": [
              "<div>\n",
              "<table border=\"1\" class=\"dataframe\">\n",
              "  <thead>\n",
              "    <tr style=\"text-align: right;\">\n",
              "      <th></th>\n",
              "      <th>Wscore</th>\n",
              "      <th>Lscore</th>\n",
              "    </tr>\n",
              "  </thead>\n",
              "  <tbody>\n",
              "    <tr>\n",
              "      <th>0</th>\n",
              "      <td>81</td>\n",
              "      <td>64</td>\n",
              "    </tr>\n",
              "    <tr>\n",
              "      <th>1</th>\n",
              "      <td>77</td>\n",
              "      <td>70</td>\n",
              "    </tr>\n",
              "    <tr>\n",
              "      <th>2</th>\n",
              "      <td>63</td>\n",
              "      <td>56</td>\n",
              "    </tr>\n",
              "    <tr>\n",
              "      <th>3</th>\n",
              "      <td>70</td>\n",
              "      <td>54</td>\n",
              "    </tr>\n",
              "    <tr>\n",
              "      <th>4</th>\n",
              "      <td>86</td>\n",
              "      <td>74</td>\n",
              "    </tr>\n",
              "  </tbody>\n",
              "</table>\n",
              "</div>"
            ],
            "text/plain": [
              "   Wscore  Lscore\n",
              "0      81      64\n",
              "1      77      70\n",
              "2      63      56\n",
              "3      70      54\n",
              "4      86      74"
            ]
          },
          "metadata": {
            "tags": []
          },
          "execution_count": 32
        }
      ]
    },
    {
      "cell_type": "markdown",
      "metadata": {
        "id": "Bkht9J8seoxa"
      },
      "source": [
        "Note the difference is the return types when you use brackets and when you use double brackets. "
      ]
    },
    {
      "cell_type": "code",
      "metadata": {
        "id": "gzJ1emDCeoxb",
        "outputId": "e703f6da-ca15-479f-dff1-4220a22cbc1a"
      },
      "source": [
        "type(df['Wscore'])"
      ],
      "execution_count": null,
      "outputs": [
        {
          "output_type": "execute_result",
          "data": {
            "text/plain": [
              "pandas.core.series.Series"
            ]
          },
          "metadata": {
            "tags": []
          },
          "execution_count": 33
        }
      ]
    },
    {
      "cell_type": "code",
      "metadata": {
        "id": "giRxwZ9Deoxb",
        "outputId": "6f689c4a-e3fc-4443-a1d1-590574e485d0"
      },
      "source": [
        "type(df[['Wscore']])"
      ],
      "execution_count": null,
      "outputs": [
        {
          "output_type": "execute_result",
          "data": {
            "text/plain": [
              "pandas.core.frame.DataFrame"
            ]
          },
          "metadata": {
            "tags": []
          },
          "execution_count": 34
        }
      ]
    },
    {
      "cell_type": "markdown",
      "metadata": {
        "id": "OawcewDBeoxb"
      },
      "source": [
        "You've seen before that you can access columns through df['col name']. You can access rows by using slicing operations. "
      ]
    },
    {
      "cell_type": "code",
      "metadata": {
        "id": "nmqQlM5Meoxb",
        "outputId": "4b82c1c9-8c85-4650-ca5a-150c7ca58321"
      },
      "source": [
        "df[0:3]"
      ],
      "execution_count": null,
      "outputs": [
        {
          "output_type": "execute_result",
          "data": {
            "text/html": [
              "<div>\n",
              "<table border=\"1\" class=\"dataframe\">\n",
              "  <thead>\n",
              "    <tr style=\"text-align: right;\">\n",
              "      <th></th>\n",
              "      <th>Season</th>\n",
              "      <th>Daynum</th>\n",
              "      <th>Wteam</th>\n",
              "      <th>Wscore</th>\n",
              "      <th>Lteam</th>\n",
              "      <th>Lscore</th>\n",
              "      <th>Wloc</th>\n",
              "      <th>Numot</th>\n",
              "    </tr>\n",
              "  </thead>\n",
              "  <tbody>\n",
              "    <tr>\n",
              "      <th>0</th>\n",
              "      <td>1985</td>\n",
              "      <td>20</td>\n",
              "      <td>1228</td>\n",
              "      <td>81</td>\n",
              "      <td>1328</td>\n",
              "      <td>64</td>\n",
              "      <td>N</td>\n",
              "      <td>0</td>\n",
              "    </tr>\n",
              "    <tr>\n",
              "      <th>1</th>\n",
              "      <td>1985</td>\n",
              "      <td>25</td>\n",
              "      <td>1106</td>\n",
              "      <td>77</td>\n",
              "      <td>1354</td>\n",
              "      <td>70</td>\n",
              "      <td>H</td>\n",
              "      <td>0</td>\n",
              "    </tr>\n",
              "    <tr>\n",
              "      <th>2</th>\n",
              "      <td>1985</td>\n",
              "      <td>25</td>\n",
              "      <td>1112</td>\n",
              "      <td>63</td>\n",
              "      <td>1223</td>\n",
              "      <td>56</td>\n",
              "      <td>H</td>\n",
              "      <td>0</td>\n",
              "    </tr>\n",
              "  </tbody>\n",
              "</table>\n",
              "</div>"
            ],
            "text/plain": [
              "   Season  Daynum  Wteam  Wscore  Lteam  Lscore Wloc  Numot\n",
              "0    1985      20   1228      81   1328      64    N      0\n",
              "1    1985      25   1106      77   1354      70    H      0\n",
              "2    1985      25   1112      63   1223      56    H      0"
            ]
          },
          "metadata": {
            "tags": []
          },
          "execution_count": 35
        }
      ]
    },
    {
      "cell_type": "markdown",
      "metadata": {
        "id": "G5poVcaYeoxb"
      },
      "source": [
        "Here's an equivalent using iloc"
      ]
    },
    {
      "cell_type": "code",
      "metadata": {
        "id": "ZswpYd2Heoxc",
        "outputId": "8a7441a2-2a8f-487c-ccc6-c2aff37a7d4a"
      },
      "source": [
        "df.iloc[0:3,:]"
      ],
      "execution_count": null,
      "outputs": [
        {
          "output_type": "execute_result",
          "data": {
            "text/html": [
              "<div>\n",
              "<table border=\"1\" class=\"dataframe\">\n",
              "  <thead>\n",
              "    <tr style=\"text-align: right;\">\n",
              "      <th></th>\n",
              "      <th>Season</th>\n",
              "      <th>Daynum</th>\n",
              "      <th>Wteam</th>\n",
              "      <th>Wscore</th>\n",
              "      <th>Lteam</th>\n",
              "      <th>Lscore</th>\n",
              "      <th>Wloc</th>\n",
              "      <th>Numot</th>\n",
              "    </tr>\n",
              "  </thead>\n",
              "  <tbody>\n",
              "    <tr>\n",
              "      <th>0</th>\n",
              "      <td>1985</td>\n",
              "      <td>20</td>\n",
              "      <td>1228</td>\n",
              "      <td>81</td>\n",
              "      <td>1328</td>\n",
              "      <td>64</td>\n",
              "      <td>N</td>\n",
              "      <td>0</td>\n",
              "    </tr>\n",
              "    <tr>\n",
              "      <th>1</th>\n",
              "      <td>1985</td>\n",
              "      <td>25</td>\n",
              "      <td>1106</td>\n",
              "      <td>77</td>\n",
              "      <td>1354</td>\n",
              "      <td>70</td>\n",
              "      <td>H</td>\n",
              "      <td>0</td>\n",
              "    </tr>\n",
              "    <tr>\n",
              "      <th>2</th>\n",
              "      <td>1985</td>\n",
              "      <td>25</td>\n",
              "      <td>1112</td>\n",
              "      <td>63</td>\n",
              "      <td>1223</td>\n",
              "      <td>56</td>\n",
              "      <td>H</td>\n",
              "      <td>0</td>\n",
              "    </tr>\n",
              "  </tbody>\n",
              "</table>\n",
              "</div>"
            ],
            "text/plain": [
              "   Season  Daynum  Wteam  Wscore  Lteam  Lscore Wloc  Numot\n",
              "0    1985      20   1228      81   1328      64    N      0\n",
              "1    1985      25   1106      77   1354      70    H      0\n",
              "2    1985      25   1112      63   1223      56    H      0"
            ]
          },
          "metadata": {
            "tags": []
          },
          "execution_count": 36
        }
      ]
    },
    {
      "cell_type": "markdown",
      "metadata": {
        "id": "KBlxeMXKeoxc"
      },
      "source": [
        "# Data Cleaning"
      ]
    },
    {
      "cell_type": "markdown",
      "metadata": {
        "id": "C6zlesTOeoxc"
      },
      "source": [
        "One of the big jobs of doing well in Kaggle competitions is that of data cleaning. A lot of times, the CSV file you're given (especially like in the Titanic dataset), you'll have a lot of missing values in the dataset, which you have to identify. The following **isnull** function will figure out if there are any missing values in the dataframe, and will then sum up the total for each column. In this case, we have a pretty clean dataset."
      ]
    },
    {
      "cell_type": "code",
      "metadata": {
        "id": "P1QlyfZmeoxc",
        "outputId": "9859e905-e11c-4e93-cdc0-ad65323070bb"
      },
      "source": [
        "df.isnull().sum()"
      ],
      "execution_count": null,
      "outputs": [
        {
          "output_type": "execute_result",
          "data": {
            "text/plain": [
              "Season    0\n",
              "Daynum    0\n",
              "Wteam     0\n",
              "Wscore    0\n",
              "Lteam     0\n",
              "Lscore    0\n",
              "Wloc      0\n",
              "Numot     0\n",
              "dtype: int64"
            ]
          },
          "metadata": {
            "tags": []
          },
          "execution_count": 37
        }
      ]
    },
    {
      "cell_type": "markdown",
      "metadata": {
        "id": "BzttXdxBeoxc"
      },
      "source": [
        "If you do end up having missing values in your datasets, be sure to get familiar with these two functions. \n",
        "* **dropna()** - This function allows you to drop all(or some) of the rows that have missing values. \n",
        "* **fillna()** - This function allows you replace the rows that have missing values with the value that you pass in."
      ]
    }
  ]
}